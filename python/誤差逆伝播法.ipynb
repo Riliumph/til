{
 "cells": [
  {
   "cell_type": "markdown",
   "metadata": {},
   "source": [
    "# 誤差逆伝播法 - Backpropagation -\n",
    "\n",
    "機械学習において、ニューラルネットワーク（以下、NN）を学習させる際に用いられるアルゴリズムの一つ。\n",
    "\n",
    "以下の二つのアルゴリズムによって実現されている。\n",
    "\n",
    "- 連鎖律  \n",
    "  合成関数の微分なので高校数学問題\n",
    "- 最急降下法  \n",
    "  関数$f(x)$が最小値を取るときの変数$x$の値を１階導関数のみを使って求める方法"
   ]
  },
  {
   "cell_type": "markdown",
   "metadata": {},
   "source": [
    "## 大まかな手順\n",
    "\n",
    "1. NNに学習のためのサンプルデータを入力する。\n",
    "2. ノードを出力していき、ネットワーク全体の出力を求める。（順伝播）\n",
    "3. 出力層の各ノードについて、計算結果と期待値との誤差を算出する。\n",
    "4. 個々のノードの期待される出力地と倍率、要求された出力と実際の出力の差（局所誤差）を算出する。（逆伝播）\n",
    "5. 各ノードの重みを局所誤差が小さくなるように調整する。\n",
    "6. より大きな重みで接続された前段のノードに対して、局所誤差の調整を行う。"
   ]
  },
  {
   "cell_type": "markdown",
   "metadata": {},
   "source": [
    "## 必要・十分条件\n",
    "\n",
    "### 総層数が3層以上であること\n",
    "\n",
    "少なくとも一層以上の中間層（隠れ層）が必要とWikipediaに書いてあるけど、よくわからん。\n",
    "\n",
    "> 別に入出力層の2層構造でもいいような気がするし、2層での論文発表が最初じゃなかったっけ？\n",
    "\n",
    "### 微分可能であること\n",
    "\n",
    "出力結果を微分することで前段に伝達していく方法のため、結果が微分可能であることが求められる。  \n",
    "そのため、各層の入力値と重みの線形化演算のあとに非線形な活性化関数が必要とされる。\n",
    "\n",
    "活性化関数が非線形である必要性だが、活性化関数が線形である場合は単層のNNで書き換え可能であることが証明されているためである。  \n",
    "つまり、表現力を強化するために層数を増やしたのに、単層と等価なネットワークになるという残念な結果になる。"
   ]
  },
  {
   "cell_type": "markdown",
   "metadata": {},
   "source": [
    "# 微分とは？\n",
    "\n",
    "微分とは瞬間の変化を捉える計算式である。\n",
    "よく用いられるのは速度。\n",
    "\n",
    "|$x$|$x^2$|\n",
    "|:--:|:--:|\n",
    "|1sec|1m|\n",
    "|2sec|4m|\n",
    "|3sec|9m|\n",
    "|4sec|16m|\n",
    "|5sec|25m|\n",
    "\n",
    "3秒後から$h$秒間の平均速度を求めると\n",
    "\n",
    "$\n",
    "\\begin{align}\n",
    "\\frac{f(3+h) - f(a)}{h}\n",
    "&= (3 + h)^2 - 3^2\\\\\n",
    "&= 3^2 + 2\\cdot3h + h^2 - 3^2\\\\\n",
    "&= h^2 + 6h\n",
    "\\end{align}\n",
    "$\n",
    "\n",
    "ここで、$h$を限りなく$0$に近づけていくとどうなるか。\n",
    "\n",
    "|$x$[sec]|$x^2$[m]|3秒からの平均速度[m/sec]|\n",
    "|:--:|:--:|:--:|\n",
    "|5|25|8|\n",
    "|4|16|7|\n",
    "|3.1|9.61|6.1|\n",
    "|3.01|9.0601|6.01|\n",
    "|3.001|9.006001|6.001|\n",
    "\n",
    "$3$秒後から$3.00000\\cdots$秒後までの平均速度とは、もう$3$秒時点での瞬間の速度とも捉えることができる。\n",
    "\n",
    "$f'(x) = 2x$なので$6m/sec$であり、確かに表の$6.001$などと一致する。\n",
    "\n",
    "この計算式では$x^2$を時間変数$x$で微分し、係数2（微分係数ではないよ）を割り出した。  \n",
    "それは**時間の変化が結果にどれだけの影響力を持つか**を求めたことに等しい。\n",
    "\n",
    "> 今回は2乗の式なので、時間変数$x$の変化が速度に2倍の影響をもたらすことが分かった。\n",
    "\n",
    "これを次の式にも当てはめていく。"
   ]
  },
  {
   "attachments": {
    "image.png": {
     "image/png": "[encoded data removed]"
    }
   },
   "cell_type": "markdown",
   "metadata": {},
   "source": [
    "# 誤差逆伝播の具体例\n",
    "\n",
    "![image.png](attachment:image.png)\n",
    "\n",
    "|変数名|意味|変数名|意味|\n",
    "|:--:|:--|:--:|:--|\n",
    "|$p$|リンゴの単価(price)|$\\frac{dy}{dp}$|$y$における$p$の影響力|\n",
    "|$n$|購入数(number)|$\\frac{dy}{dn}$|$y$における$n$の影響力|\n",
    "|$t$|消費税(tax)|$\\frac{dy}{dt}$|$y$における$t$の影響力|\n",
    "|$x$|税抜き小計|$\\frac{dy}{dx}$|$y$における$x$の影響力|\n",
    "|$y$|税込み合計|$\\frac{dy}{dy}$|$y$における$y$の影響力|"
   ]
  },
  {
   "cell_type": "markdown",
   "metadata": {},
   "source": [
    "## 計算式$y$について、$y$の影響度は？\n",
    "\n",
    "\n",
    "$\n",
    "\\frac{dy}{dy} = 1\n",
    "$\n",
    "\n",
    "同じ計算式なので等倍が返る。\n",
    "\n",
    "## 計算式$y$について、消費税$t$の影響度は？\n",
    "\n",
    "$\n",
    "\\begin{align}\n",
    "\\frac{dy}{dt}\n",
    "&= \\frac{d}{dt}(y \\cdot t)\\\\\n",
    "&= y\n",
    "\\end{align}\n",
    "$\n",
    "\n",
    "消費税の変動で$y$倍の影響がある。  \n",
    "\n",
    "> 現状のパラメータでは、200倍の影響があることを示す。  \n",
    "> 消費税が$1.1$から$1.2$に値上がりしたとすると、$0.1 \\times 200 = 20$円値上がりする。\n",
    "\n",
    "## 計算式$y$について、税抜き小計$x$の影響度は？\n",
    "\n",
    "$\n",
    "\\begin{align}\n",
    "\\frac{dy}{dx}\n",
    "&= \\frac{d}{dx}(x \\cdot t)\\\\\n",
    "&= t\n",
    "\\end{align}\n",
    "$\n",
    "\n",
    "$y = pnt$であるため、$x = pn$で微分すると、残るのは任意の消費税$t$のみとなる。  \n",
    "つまり、税抜き小計が変化することで合計に影響されるのは消費税分のみといのは分かり易い。\n",
    "\n",
    "## 計算式$y$について、単価$p$の影響度は？\n",
    "\n",
    "$\n",
    "\\begin{align}\n",
    "\\frac{dy}{dp}\n",
    "&= \\frac{dx}{dp} \\cdot \\frac{dy}{dx}\\\\\n",
    "&= \\frac{d}{dp}(p \\cdot n) \\cdot \\frac{dy}{dx}\\\\\n",
    "&= n \\cdot t\n",
    "\\end{align}\n",
    "$\n",
    "\n",
    "単価の変動がもたらす影響度は購入数$n$と消費税$t$の積となる。  \n",
    "\n",
    "> 現状では合計金額に2.2倍の影響があるということを示す。  \n",
    "> 単価が100から200に値上がりしたとすると、$100 \\times 2.2 = 220$円値上がりする。\n",
    "\n",
    "## 計算式$y$について、購入数$n$の影響度は？\n",
    "\n",
    "$\n",
    "\\begin{align}\n",
    "\\frac{dy}{dn}\n",
    "&= \\frac{dx}{dn} \\cdot \\frac{dy}{dx}\\\\\n",
    "&= \\frac{d}{dn}(p \\cdot n) \\cdot \\frac{dy}{dx}\\\\\n",
    "&= p \\cdot t\n",
    "\\end{align}\n",
    "$\n",
    "\n",
    "購入数の変動がもたらす影響度は単価$p$と消費税$t$の積となる。\n",
    "\n",
    "> 現状のパラメータでは、合計金額に110倍の影響があることを示す。  \n",
    "> 購入数が2から5に上がったとして、$3 \\times 110 = 330$円値上がりする。"
   ]
  },
  {
   "cell_type": "markdown",
   "metadata": {},
   "source": [
    "# 参考：活性化関数の形\n",
    "\n",
    "各活性化関数の形を見てみる。"
   ]
  },
  {
   "cell_type": "code",
   "execution_count": 1,
   "metadata": {},
   "outputs": [],
   "source": [
    "import numpy as np\n",
    "import matplotlib.pyplot as plt"
   ]
  },
  {
   "cell_type": "code",
   "execution_count": 2,
   "metadata": {},
   "outputs": [],
   "source": [
    "def plot_function(func, x):\n",
    "    y = func(x)\n",
    "    plt.title(func.__name__)\n",
    "    plt.grid()\n",
    "    graph_margin = 0.2\n",
    "    plt.hlines(0, min(x), max(x), \"black\")\n",
    "    plt.vlines(0, min(y)-graph_margin, max(y), \"black\")\n",
    "    plt.plot(x, y)\n",
    "    plt.show()"
   ]
  },
  {
   "cell_type": "code",
   "execution_count": 3,
   "metadata": {},
   "outputs": [
    {
     "data": {
      "text/plain": [
       "array([-10. ,  -9.9,  -9.8,  -9.7,  -9.6,  -9.5,  -9.4,  -9.3,  -9.2,\n",
       "        -9.1,  -9. ,  -8.9,  -8.8,  -8.7,  -8.6,  -8.5,  -8.4,  -8.3,\n",
       "        -8.2,  -8.1,  -8. ,  -7.9,  -7.8,  -7.7,  -7.6,  -7.5,  -7.4,\n",
       "        -7.3,  -7.2,  -7.1,  -7. ,  -6.9,  -6.8,  -6.7,  -6.6,  -6.5,\n",
       "        -6.4,  -6.3,  -6.2,  -6.1,  -6. ,  -5.9,  -5.8,  -5.7,  -5.6,\n",
       "        -5.5,  -5.4,  -5.3,  -5.2,  -5.1,  -5. ,  -4.9,  -4.8,  -4.7,\n",
       "        -4.6,  -4.5,  -4.4,  -4.3,  -4.2,  -4.1,  -4. ,  -3.9,  -3.8,\n",
       "        -3.7,  -3.6,  -3.5,  -3.4,  -3.3,  -3.2,  -3.1,  -3. ,  -2.9,\n",
       "        -2.8,  -2.7,  -2.6,  -2.5,  -2.4,  -2.3,  -2.2,  -2.1,  -2. ,\n",
       "        -1.9,  -1.8,  -1.7,  -1.6,  -1.5,  -1.4,  -1.3,  -1.2,  -1.1,\n",
       "        -1. ,  -0.9,  -0.8,  -0.7,  -0.6,  -0.5,  -0.4,  -0.3,  -0.2,\n",
       "        -0.1,   0. ,   0.1,   0.2,   0.3,   0.4,   0.5,   0.6,   0.7,\n",
       "         0.8,   0.9,   1. ,   1.1,   1.2,   1.3,   1.4,   1.5,   1.6,\n",
       "         1.7,   1.8,   1.9,   2. ,   2.1,   2.2,   2.3,   2.4,   2.5,\n",
       "         2.6,   2.7,   2.8,   2.9,   3. ,   3.1,   3.2,   3.3,   3.4,\n",
       "         3.5,   3.6,   3.7,   3.8,   3.9,   4. ,   4.1,   4.2,   4.3,\n",
       "         4.4,   4.5,   4.6,   4.7,   4.8,   4.9,   5. ,   5.1,   5.2,\n",
       "         5.3,   5.4,   5.5,   5.6,   5.7,   5.8,   5.9,   6. ,   6.1,\n",
       "         6.2,   6.3,   6.4,   6.5,   6.6,   6.7,   6.8,   6.9,   7. ,\n",
       "         7.1,   7.2,   7.3,   7.4,   7.5,   7.6,   7.7,   7.8,   7.9,\n",
       "         8. ,   8.1,   8.2,   8.3,   8.4,   8.5,   8.6,   8.7,   8.8,\n",
       "         8.9,   9. ,   9.1,   9.2,   9.3,   9.4,   9.5,   9.6,   9.7,\n",
       "         9.8,   9.9,  10. ])"
      ]
     },
     "execution_count": 3,
     "metadata": {},
     "output_type": "execute_result"
    }
   ],
   "source": [
    "x_min, x_max = -10, 10\n",
    "x = np.linspace(x_min, x_max, int(x_max - x_min) * 10 + 1)\n",
    "x"
   ]
  },
  {
   "cell_type": "markdown",
   "metadata": {},
   "source": [
    "## Sigmoid関数\n",
    "\n",
    "シグモイド曲線を持つロジスティック関数の一種。\n",
    "\n",
    "sigmoid関数とsoftmax関数は常に出力値が$(0,1)$の領域に属しているので、確率と関係させることが多い。  \n",
    "Deep Belief NetやDeep Boltzmann machineはもはやオバケ。"
   ]
  },
  {
   "cell_type": "code",
   "execution_count": 4,
   "metadata": {},
   "outputs": [],
   "source": [
    "def Sigmoid(x):\n",
    "    return 1 / (1 + np.exp(-x))"
   ]
  },
  {
   "cell_type": "code",
   "execution_count": 5,
   "metadata": {},
   "outputs": [
    {
     "data": {
      "image/png": "[encoded data removed]",
      "text/plain": [
       "<Figure size 432x288 with 1 Axes>"
      ]
     },
     "metadata": {
      "needs_background": "light"
     },
     "output_type": "display_data"
    }
   ],
   "source": [
    "plot_function(Sigmoid, x)"
   ]
  },
  {
   "cell_type": "markdown",
   "metadata": {},
   "source": [
    "## 正規化線形関数 - Rectified Linear Unit -\n",
    "\n",
    "通称、ReLU。\n",
    "\n",
    "関数自体の表現力が乏しいため、出力層で使われることはほぼない。  \n",
    "ただし、ロジスティック関数に比べて勾配消失問題が発生しにくいことが分かっているため隠れ層にご用達状態。  \n",
    "隠れ層の活性化関数に迷ったら、とりあえずReLU試しとけみたいな風潮あるよね。"
   ]
  },
  {
   "cell_type": "markdown",
   "metadata": {},
   "source": [
    "<details>\n",
    "    <summary>線形型の活性化関数？</summary>\n",
    "    \n",
    "おいおい、活性化関数には非線形型が選ばれるんじゃなかったのかよ！？と思うかもしれない。  \n",
    "確かに下のグラフを見ても分かるように、ReLUは数学上$x=0$で微分不可能であることが明らかである。  \n",
    "\n",
    "そこでプログラム上、以下の定義を行うことで疑似的に微分可能ということにしている。  \n",
    "\n",
    "$\n",
    "\\frac{df}{dx} = \\left\\{\n",
    "\\begin{array}{ll}\n",
    "1 & (x \\geq 0) \\\\\n",
    "0 & (x \\lt 0)\n",
    "\\end{array}\n",
    "\\right.\n",
    "$\n",
    "\n",
    "このような一般の微分の概念を微分不可能な関数に対して拡張した考えを[劣微分](https://ja.wikipedia.org/wiki/%E5%8A%A3%E5%BE%AE%E5%88%86)と呼ぶ。  \n",
    "> 正直、これは死ぬほど調べた。\n",
    "\n",
    "<details>\n",
    "    <summary>微分不可能の証明</summary>\n",
    "\n",
    "$\n",
    "\\begin{align}\n",
    "lim_{h\\rightarrow0}f(x+h)\n",
    "&= \\frac{f(x+h) - f(h)}{(x+h) - h}\\\\\n",
    "&= \\frac{max(x+h) - max(h)}{h}\n",
    "\\end{align}\n",
    "$\n",
    "\n",
    "$x$が正方向から$0$に近づく場合は$1$に、負方向から$0$に近づく場合は$0$となる。  \n",
    "よって、極限値は存在し得ない。  \n",
    "つまり、微分不可能である。\n",
    "</details>\n",
    "</details>"
   ]
  },
  {
   "cell_type": "code",
   "execution_count": 6,
   "metadata": {},
   "outputs": [],
   "source": [
    "def ReLU(x):\n",
    "    return np.maximum(x, 0)"
   ]
  },
  {
   "cell_type": "markdown",
   "metadata": {},
   "source": [
    "**最大値関数の選択について**\n",
    "\n",
    "Pythonには最大値を演算する関数が複数あるが、正しく選択するように。  \n",
    "今回は、別に最大値を返してほしいんじゃなくて、各要素に$max(0,x)$の演算を行いたいということを忘れずに。\n",
    "\n",
    "<details>\n",
    "    <summary>いろんなMax関数</summary>\n",
    "\n",
    "|関数名|演算内容|補足|\n",
    "|:--:|:---|:--|\n",
    "|max|単一変数同士の比較を行う。||\n",
    "|numpy.amax|配列から最大値を検索する。|`numpy.amax(instance)`の記述形式|\n",
    "|numpy.ndarray.max|配列から最大値を検索する。|`instance.max()`の記述形式|\n",
    "|numpy.maximum|各要素にmax処理を行う。||\n",
    "\n",
    "</details>"
   ]
  },
  {
   "cell_type": "code",
   "execution_count": 7,
   "metadata": {},
   "outputs": [
    {
     "data": {
      "image/png": "[encoded data removed]",
      "text/plain": [
       "<Figure size 432x288 with 1 Axes>"
      ]
     },
     "metadata": {
      "needs_background": "light"
     },
     "output_type": "display_data"
    }
   ],
   "source": [
    "plot_function(ReLU, x)"
   ]
  },
  {
   "cell_type": "markdown",
   "metadata": {},
   "source": [
    "## Softmax関数\n",
    "\n",
    "分類問題において、NNの出力層にだけ用いられる活性化関数。\n",
    "\n",
    "各クラスの値を正規化（$0～1$の範囲に収める）しているだけだが、その特徴から確率値として運用されることが多い。\n",
    "\n",
    "> これ、今回は回帰問題なのでグラフ化しても意味不明では……一応やっとくか"
   ]
  },
  {
   "cell_type": "code",
   "execution_count": 8,
   "metadata": {},
   "outputs": [],
   "source": [
    "def Softmax(x):\n",
    "    return np.exp(x) / sum(np.exp(x))"
   ]
  },
  {
   "cell_type": "code",
   "execution_count": 9,
   "metadata": {},
   "outputs": [
    {
     "data": {
      "image/png": "[encoded data removed]",
      "text/plain": [
       "<Figure size 432x288 with 1 Axes>"
      ]
     },
     "metadata": {
      "needs_background": "light"
     },
     "output_type": "display_data"
    }
   ],
   "source": [
    "plot_function(Softmax, x)"
   ]
  },
  {
   "cell_type": "code",
   "execution_count": null,
   "metadata": {},
   "outputs": [],
   "source": []
  }
 ],
 "metadata": {
  "kernelspec": {
   "display_name": "Python 3",
   "language": "python",
   "name": "python3"
  },
  "language_info": {
   "codemirror_mode": {
    "name": "ipython",
    "version": 3
   },
   "file_extension": ".py",
   "mimetype": "text/x-python",
   "name": "python",
   "nbconvert_exporter": "python",
   "pygments_lexer": "ipython3",
   "version": "3.7.4"
  }
 },
 "nbformat": 4,
 "nbformat_minor": 2
}
